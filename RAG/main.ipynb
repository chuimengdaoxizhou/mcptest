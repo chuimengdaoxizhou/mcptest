{
 "cells": [
  {
   "metadata": {
    "ExecuteTime": {
     "end_time": "2025-03-21T07:20:59.031943Z",
     "start_time": "2025-03-21T07:20:58.036586Z"
    }
   },
   "cell_type": "code",
   "source": [
    "from milvus import Milvus\n",
    "from File import Data\n"
   ],
   "id": "25ea9c090b806824",
   "outputs": [],
   "execution_count": 1
  },
  {
   "metadata": {
    "ExecuteTime": {
     "end_time": "2025-03-21T07:21:10.197356Z",
     "start_time": "2025-03-21T07:21:00.831449Z"
    }
   },
   "cell_type": "code",
   "source": [
    "f = Data()\n",
    "m = Milvus()\n",
    "\n",
    "path = \"/home/chenyun/下载/train1.json\"\n"
   ],
   "id": "b0021032cb0d0970",
   "outputs": [
    {
     "name": "stdout",
     "output_type": "stream",
     "text": [
      "初始化Milvus\n",
      "1742541660.8326173: 检查连接状态...\n",
      "尝试连接到 Milvus...\n",
      "1742541660.8326437: 进入锁，准备连接...\n",
      "1742541660.8441463: 连接成功完成！\n",
      "没有找到名为 'qa_collection' 的集合，数据没有加载。\n",
      "开始加载模型\n"
     ]
    },
    {
     "name": "stderr",
     "output_type": "stream",
     "text": [
      "/home/chenyun/program/python/envs/neumai/lib/python3.11/site-packages/tqdm/auto.py:21: TqdmWarning: IProgress not found. Please update jupyter and ipywidgets. See https://ipywidgets.readthedocs.io/en/stable/user_install.html\n",
      "  from .autonotebook import tqdm as notebook_tqdm\n"
     ]
    },
    {
     "name": "stdout",
     "output_type": "stream",
     "text": [
      "加载模型完成\n",
      "初始化完成\n"
     ]
    }
   ],
   "execution_count": 2
  },
  {
   "metadata": {
    "ExecuteTime": {
     "end_time": "2025-03-21T07:21:12.505422Z",
     "start_time": "2025-03-21T07:21:12.498848Z"
    }
   },
   "cell_type": "code",
   "source": [
    "data = f.readFile(path)\n",
    "m.storejson(data)\n"
   ],
   "id": "d9077ac45474c308",
   "outputs": [
    {
     "name": "stdout",
     "output_type": "stream",
     "text": [
      "获取数据 JSON\n",
      "尝试解析\n",
      "打开文件\n",
      "开始解析\n",
      "解析成功\n",
      "检查是否连接\n",
      "1742541672.501202: 检查连接状态...\n",
      "存储失败: list indices must be integers or slices, not str\n"
     ]
    },
    {
     "data": {
      "text/plain": [
       "False"
      ]
     },
     "execution_count": 3,
     "metadata": {},
     "output_type": "execute_result"
    }
   ],
   "execution_count": 3
  },
  {
   "metadata": {
    "ExecuteTime": {
     "end_time": "2025-03-21T08:42:02.847502Z",
     "start_time": "2025-03-21T08:41:51.292249Z"
    }
   },
   "cell_type": "code",
   "source": [
    "from milvus import Milvus\n",
    "m = Milvus()\n",
    "data = m.getcollections()\n",
    "print(data)\n"
   ],
   "id": "5791b9101c852d5e",
   "outputs": [
    {
     "name": "stdout",
     "output_type": "stream",
     "text": [
      "初始化Milvus\n",
      "1742546512.2839973: 检查连接状态...\n",
      "尝试连接到 Milvus...\n",
      "1742546512.2840133: 进入锁，准备连接...\n",
      "1742546512.2929356: 连接成功完成！\n",
      "初始化，将数据加载到内存\n",
      "开始加载模型\n"
     ]
    },
    {
     "name": "stderr",
     "output_type": "stream",
     "text": [
      "/home/chenyun/program/python/envs/neumai/lib/python3.11/site-packages/tqdm/auto.py:21: TqdmWarning: IProgress not found. Please update jupyter and ipywidgets. See https://ipywidgets.readthedocs.io/en/stable/user_install.html\n",
      "  from .autonotebook import tqdm as notebook_tqdm\n"
     ]
    },
    {
     "name": "stdout",
     "output_type": "stream",
     "text": [
      "加载模型完成\n",
      "初始化完成\n",
      "['qa_collection']\n"
     ]
    }
   ],
   "execution_count": 1
  },
  {
   "metadata": {
    "ExecuteTime": {
     "end_time": "2025-03-21T08:42:06.218836Z",
     "start_time": "2025-03-21T08:42:06.167847Z"
    }
   },
   "cell_type": "code",
   "source": "m.deletecollections()",
   "id": "1669b24b693a437b",
   "outputs": [],
   "execution_count": 2
  },
  {
   "metadata": {
    "ExecuteTime": {
     "end_time": "2025-03-21T08:42:07.178193Z",
     "start_time": "2025-03-21T08:42:07.174096Z"
    }
   },
   "cell_type": "code",
   "source": [
    "data = m.getcollections()\n",
    "print(data)"
   ],
   "id": "1eff78101e2312a0",
   "outputs": [
    {
     "name": "stdout",
     "output_type": "stream",
     "text": [
      "[]\n"
     ]
    }
   ],
   "execution_count": 3
  },
  {
   "metadata": {
    "ExecuteTime": {
     "end_time": "2025-03-21T07:48:08.430740Z",
     "start_time": "2025-03-21T07:48:08.425782Z"
    }
   },
   "cell_type": "code",
   "source": "from allgrpc import client\n",
   "id": "22565da403ff6447",
   "outputs": [],
   "execution_count": 4
  },
  {
   "metadata": {
    "ExecuteTime": {
     "end_time": "2025-03-21T07:48:09.309062Z",
     "start_time": "2025-03-21T07:48:09.233242Z"
    }
   },
   "cell_type": "code",
   "source": [
    "prompt = \"申报学术成果激励的学术成果有什么限制？\"\n",
    "resutlt = client.getdata(prompt)\n",
    "print(resutlt)"
   ],
   "id": "9e8090931db9dccf",
   "outputs": [
    {
     "name": "stdout",
     "output_type": "stream",
     "text": [
      "未找到匹配的结果\n",
      "None\n"
     ]
    }
   ],
   "execution_count": 5
  },
  {
   "metadata": {
    "ExecuteTime": {
     "end_time": "2025-03-21T07:48:10.109955Z",
     "start_time": "2025-03-21T07:48:10.058079Z"
    }
   },
   "cell_type": "code",
   "source": [
    "prompt = \"课程考核成绩的记载一般采用哪种方式？\"\n",
    "resutlt = client.getdata(prompt)\n",
    "print(resutlt)"
   ],
   "id": "4d8f6f98233cad97",
   "outputs": [
    {
     "name": "stdout",
     "output_type": "stream",
     "text": [
      "未找到匹配的结果\n",
      "None\n"
     ]
    }
   ],
   "execution_count": 6
  },
  {
   "metadata": {},
   "cell_type": "code",
   "outputs": [],
   "execution_count": null,
   "source": [
    "path = \"/home/chenyun/下载/train2.json\"\n",
    "flag = client.updata(path)\n",
    "print(flag)"
   ],
   "id": "3683be51838a192e"
  },
  {
   "metadata": {
    "ExecuteTime": {
     "end_time": "2025-03-21T08:16:24.198918Z",
     "start_time": "2025-03-21T08:16:24.195387Z"
    }
   },
   "cell_type": "code",
   "source": [
    "import json\n",
    "\n",
    "json_data =  \"/home/chenyun/下载/train3.json\"\n",
    "try:\n",
    "    data = json.loads(json_data)\n",
    "    print(\"JSON 格式正确！\")\n",
    "except json.JSONDecodeError as e:\n",
    "    print(f\"JSON 格式错误: {e}\")\n"
   ],
   "id": "2383c662f8fed8b7",
   "outputs": [
    {
     "name": "stdout",
     "output_type": "stream",
     "text": [
      "JSON 格式错误: Expecting value: line 1 column 1 (char 0)\n"
     ]
    }
   ],
   "execution_count": 7
  },
  {
   "metadata": {},
   "cell_type": "code",
   "outputs": [],
   "execution_count": null,
   "source": "",
   "id": "3b749319321641be"
  }
 ],
 "metadata": {
  "kernelspec": {
   "name": "python3",
   "language": "python",
   "display_name": "Python 3 (ipykernel)"
  }
 },
 "nbformat": 5,
 "nbformat_minor": 9
}
